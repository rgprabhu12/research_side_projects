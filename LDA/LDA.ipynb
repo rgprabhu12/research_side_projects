{
 "cells": [
  {
   "cell_type": "code",
   "execution_count": 233,
   "metadata": {},
   "outputs": [],
   "source": [
    "import nltk\n",
    "import re\n",
    "import string\n",
    "import pandas as pd\n",
    "from sklearn.feature_extraction.text import CountVectorizer, TfidfVectorizer\n",
    "import numpy as np\n",
    "from scipy.spatial.distance import cdist\n",
    "from sklearn.decomposition import PCA\n",
    "from sklearn.pipeline import Pipeline\n",
    "import matplotlib.pyplot as plt\n",
    "from sklearn.metrics.pairwise import cosine_similarity\n",
    "from sklearn.cluster import KMeans\n",
    "from collections import Counter, defaultdict\n",
    "from wordcloud import WordCloud\n",
    "from sklearn.decomposition import TruncatedSVD\n",
    "from sklearn.decomposition import LatentDirichletAllocation as LDA\n",
    "import gensim\n",
    "\n",
    "#nltk.download( 'stopwords' )\n",
    "#nltk.download( 'reuters' )\n",
    "# nltk.download('averaged_perceptron_tagger')\n",
    "\n",
    "from nltk.corpus import reuters\n",
    "# nltk.download('punkt') -- Punkt Sentence Tokenizer\n",
    "# This tokenizer divides a text into a list of sentences by using an unsupervised algorithm to build a model for abbreviation words, collocations, and words that start sentences. \n",
    "\n",
    "stop_word = nltk.corpus.stopwords.words('english') + ['said', 'nine']"
   ]
  },
  {
   "cell_type": "code",
   "execution_count": 249,
   "metadata": {},
   "outputs": [],
   "source": [
    "def porter_stem( txt ):\n",
    "    \"\"\"Porter stem terms in text block\n",
    "    Args: txt (list of string): Text block as list of individual terms\n",
    "    Returns:(list of string): Text block with terms Porter stemmed\n",
    "    \"\"\"\n",
    "    porter = nltk.stem.porter.PorterStemmer()\n",
    "\n",
    "    for i in range( 0, len( txt ) ):\n",
    "        txt[ i ] = porter.stem( txt[ i ] )\n",
    "\n",
    "    return txt\n",
    "\n",
    "def remove_stop_word(txt,stop_word):\n",
    "    \"\"\"Remove all stop words from text blo\n",
    "    Args: txt (list of string): Text block as list of individual terms\n",
    "    Returns: (list of string): Text block with stop words removed\n",
    "    \"\"\"\n",
    "    term_list = [ ]\n",
    "   \n",
    "    for term in txt:\n",
    "        term_list += ( [ ] if term.lower().strip() in stop_word or len(term.strip()) < 4 else [ term.lower().strip() ] )\n",
    "\n",
    "    return term_list\n",
    "\n",
    "def clean_text(currentText, pos_pick = False):\n",
    "    if(pos_pick):\n",
    "        currentText = [token for token, pos in nltk.pos_tag(nltk.word_tokenize(currentText)) \n",
    "                       if pos in ('JJ', 'JJR', 'JJS','NNP', 'NN', 'NNS', 'RB', 'RBS', 'VB', 'VBD', 'VBN', 'VBP', 'VBZ')]\n",
    "        # print(currentText)\n",
    "        currentText = \" \".join(currentText)\n",
    "    \n",
    "    punc = string.punctuation.replace( '-', '' ) # had done this for IAA, not sure why\n",
    "    currentText = re.sub( '[' + punc + ']+', '', currentText )\n",
    "    currentText = re.sub( '-', ' ', currentText )\n",
    "    \n",
    "    currentText = re.sub('[0-9]+[a-z]', '', currentText)\n",
    "    currentText = re.sub('\\d', '', currentText)\n",
    "        \n",
    "    currentText = currentText.split()\n",
    "        \n",
    "    currentText = remove_stop_word( currentText , stop_word )\n",
    "       \n",
    "    # currentText = porter_stem( currentText ) \n",
    "    # print(\"func: \" + str(currentText))\n",
    "    \n",
    "    currentText = \" \".join(currentText)\n",
    "    return currentText\n",
    "\n",
    "def elbow( X, max_clust=20 ):\n",
    "    distort = [ ]\n",
    "    inertia = [ ]\n",
    "\n",
    "    map_distort = { }\n",
    "    map_inertia = { }\n",
    "\n",
    "    elbow_distort = 1\n",
    "    elbow_inertia = 1\n",
    "\n",
    "    K = range( 1, max_clust )\n",
    "    for k in K:\n",
    "        # print(k)\n",
    "        kmean_model = KMeans( n_clusters=k )\n",
    "        kmean_model.fit( X )\n",
    "\n",
    "        distort.append( sum( np.min( cdist( X, kmean_model.cluster_centers_, 'euclidean' ), axis=1 ) ) / X.shape[ 0 ] )\n",
    "        inertia.append( kmean_model.inertia_ )\n",
    "\n",
    "        map_distort[ k ] = sum( np.min( cdist( X, kmean_model.cluster_centers_, 'euclidean' ), axis=1 ) ) / X.shape[ 0 ]\n",
    "        map_inertia[ k ] = kmean_model.inertia_\n",
    "\n",
    "    prev_k = ''\n",
    "    prev_v = 0\n",
    "    prev_pct = 0\n",
    "    for i,(k,v) in enumerate( map_distort.items() ):\n",
    "        if prev_k == '':\n",
    "            # print( f'{k}: {v:.4f}' )\n",
    "            prev_k = str( k )\n",
    "            prev_v = v\n",
    "            continue\n",
    "\n",
    "        # print( f'{k}: {v:.4f} ', end='' )\n",
    "\n",
    "        diff_v = prev_v - v\n",
    "        diff_v_pct = diff_v / prev_v * 100.0\n",
    "        # print( f'{diff_v:.4f}, {diff_v_pct:.2f}%' )\n",
    "\n",
    "        if i > 2 and prev_pct - diff_v_pct < 0.5:\n",
    "            elbow_distort = i + 1\n",
    "            break\n",
    "\n",
    "        prev_k = str( k )\n",
    "        prev_v = v\n",
    "        prev_pct = diff_v_pct\n",
    "        \n",
    "    # print()\n",
    "\n",
    "    prev_k = ''\n",
    "    prev_v = 0\n",
    "    prev_pct = 0\n",
    "    for i,(k,v) in enumerate( map_inertia.items() ):\n",
    "        if prev_k == '':\n",
    "            # print( f'{k}: {v:.4f}' )\n",
    "            prev_k = str( k )\n",
    "            prev_v = v\n",
    "            continue\n",
    "\n",
    "        # print( f'{k}: {v:.4f} ', end='' )\n",
    "\n",
    "        diff_v = prev_v - v\n",
    "        diff_v_pct = diff_v / prev_v * 100.0\n",
    "        # print( f'{diff_v:.4f}, {diff_v_pct:.2f}%' )\n",
    "\n",
    "        if i > 2 and prev_pct - diff_v_pct < 0.5:\n",
    "            elbow_inertia = i + 1\n",
    "            break\n",
    "\n",
    "        prev_k = str( k )\n",
    "        prev_v = v\n",
    "        prev_pct = diff_v_pct\n",
    "        \n",
    "    return max( elbow_distort, elbow_inertia )\n",
    "\n",
    "def cluster_graph(X, clust):\n",
    "    Y = X.todense()\n",
    "\n",
    "    pca = PCA().fit(Y)\n",
    "#     print(pca.explained_variance_.cumsum())\n",
    "#     print(pca.explained_variance_ratio_.cumsum())\n",
    "\n",
    "    data2D = pca.transform(Y)\n",
    "    # print(len(data2D))\n",
    "    plt.scatter(data2D[:,0], data2D[:,1], c = clust.labels_)\n",
    "\n",
    "    pca2 = PCA(n_components=2).fit(clust.cluster_centers_)\n",
    "    centers2D = pca2.transform(clust.cluster_centers_)\n",
    "    # print(centers2D)\n",
    "    plt.scatter(centers2D[:,0], centers2D[:,1], marker='x', s=200, linewidths=3, c='r')\n",
    "    \n",
    "    for i in range(0, len(clust.cluster_centers_)):\n",
    "        plt.annotate(str(i), (centers2D[i,0], centers2D[i,1]))\n",
    "        \n",
    "def wordCloud(clusters):\n",
    "    for i, j in clusters.iterrows():\n",
    "        wordcloud = WordCloud(\n",
    "                background_color ='white', \n",
    "                stopwords = stop_word, \n",
    "                min_font_size = 10).generate(j[\"Lyrics\"]) \n",
    "  \n",
    "        # plot the WordCloud image   \n",
    "        print(\"Wordcloud for Cluster %d\" % i)\n",
    "        plt.figure(figsize = (8, 8), facecolor = None) \n",
    "        plt.imshow(wordcloud) \n",
    "        plt.axis(\"off\") \n",
    "        plt.tight_layout(pad = 0) \n",
    "        plt.show()\n",
    "\n",
    "def display_topics(model, feature_names, no_top_words):\n",
    "    for topic_idx, topic in enumerate(model.components_):\n",
    "        print (\"Topic %d:\" % (topic_idx) , (\" \".join([feature_names[i] for i in topic.argsort()[:-no_top_words - 1:-1]])))\n"
   ]
  },
  {
   "cell_type": "code",
   "execution_count": 235,
   "metadata": {},
   "outputs": [
    {
     "name": "stdout",
     "output_type": "stream",
     "text": [
      "['acq', 'alum', 'barley', 'bop', 'carcass', 'castor-oil', 'cocoa', 'coconut', 'coconut-oil', 'coffee', 'copper', 'copra-cake', 'corn', 'cotton', 'cotton-oil', 'cpi', 'cpu', 'crude', 'dfl', 'dlr', 'dmk', 'earn', 'fuel', 'gas', 'gnp', 'gold', 'grain', 'groundnut', 'groundnut-oil', 'heat', 'hog', 'housing', 'income', 'instal-debt', 'interest', 'ipi', 'iron-steel', 'jet', 'jobs', 'l-cattle', 'lead', 'lei', 'lin-oil', 'livestock', 'lumber', 'meal-feed', 'money-fx', 'money-supply', 'naphtha', 'nat-gas', 'nickel', 'nkr', 'nzdlr', 'oat', 'oilseed', 'orange', 'palladium', 'palm-oil', 'palmkernel', 'pet-chem', 'platinum', 'potato', 'propane', 'rand', 'rape-oil', 'rapeseed', 'reserves', 'retail', 'rice', 'rubber', 'rye', 'ship', 'silver', 'sorghum', 'soy-meal', 'soy-oil', 'soybean', 'strategic-metal', 'sugar', 'sun-meal', 'sun-oil', 'sunseed', 'tea', 'tin', 'trade', 'veg-oil', 'wheat', 'wpi', 'yen', 'zinc']\n"
     ]
    }
   ],
   "source": [
    "cleaned_text_list = []\n",
    "\n",
    "print(reuters.categories())\n",
    "\n",
    "for doc in reuters.fileids():\n",
    "    # print(doc + \" | category: %s\" %(reuters.categories(fileids = doc)))\n",
    "    #print(reuters.words(fileids = doc))\n",
    "    \n",
    "    cleaned_text = clean_text(reuters.raw(fileids = doc))\n",
    "    cleaned_text_list.append(cleaned_text)\n",
    "    # break  "
   ]
  },
  {
   "cell_type": "code",
   "execution_count": 236,
   "metadata": {},
   "outputs": [
    {
     "data": {
      "text/plain": [
       "(10788, 1712)"
      ]
     },
     "execution_count": 236,
     "metadata": {},
     "output_type": "execute_result"
    }
   ],
   "source": [
    "c = CountVectorizer(stop_words=stop_word, max_df = 0.7, min_df = 50)\n",
    "X_text_c = c.fit_transform(cleaned_text_list)\n",
    "#print(X_text_c)\n",
    "x_text_c_array = X_text_c.toarray()\n",
    "x_text_c_array.shape"
   ]
  },
  {
   "cell_type": "code",
   "execution_count": 237,
   "metadata": {},
   "outputs": [],
   "source": [
    "# c.get_feature_names()"
   ]
  },
  {
   "cell_type": "code",
   "execution_count": 238,
   "metadata": {},
   "outputs": [
    {
     "name": "stdout",
     "output_type": "stream",
     "text": [
      "Number of clusters: 5\n"
     ]
    },
    {
     "data": {
      "image/png": "[encoded data removed]",
      "text/plain": [
       "<Figure size 432x288 with 1 Axes>"
      ]
     },
     "metadata": {
      "needs_background": "light"
     },
     "output_type": "display_data"
    }
   ],
   "source": [
    "numClusters = elbow(x_text_c_array, max_clust = 10)\n",
    "print(\"Number of clusters: %d\" %numClusters)\n",
    "\n",
    "kmean_model = KMeans( n_clusters = numClusters )\n",
    "kmean_model.fit( x_text_c_array )\n",
    "cluster_graph(X_text, kmean_model)"
   ]
  },
  {
   "cell_type": "code",
   "execution_count": 239,
   "metadata": {},
   "outputs": [
    {
     "name": "stdout",
     "output_type": "stream",
     "text": [
      "# Features: 1712\n",
      "(10788, 1712)\n"
     ]
    }
   ],
   "source": [
    "tfidf = TfidfVectorizer(max_df=0.7, min_df = 50, stop_words=stop_word)\n",
    "X_text = tfidf.fit_transform(cleaned_text_list)\n",
    "print(\"# Features:\", str(len(tfidf.get_feature_names())))\n",
    "\n",
    "tfidf_array = X_text.toarray()\n",
    "print(tfidf_array.shape)"
   ]
  },
  {
   "cell_type": "code",
   "execution_count": null,
   "metadata": {},
   "outputs": [],
   "source": [
    "# tfidf.get_feature_names()"
   ]
  },
  {
   "cell_type": "code",
   "execution_count": 241,
   "metadata": {},
   "outputs": [
    {
     "name": "stdout",
     "output_type": "stream",
     "text": [
      "Number of clusters: 4\n"
     ]
    },
    {
     "data": {
      "text/plain": [
       "KMeans(n_clusters=4)"
      ]
     },
     "execution_count": 241,
     "metadata": {},
     "output_type": "execute_result"
    }
   ],
   "source": [
    "numClusters = elbow(tfidf_array, max_clust = 10)\n",
    "print(\"Number of clusters: %d\" %numClusters)\n",
    "\n",
    "kmean_model = KMeans( n_clusters = numClusters )\n",
    "kmean_model.fit( tfidf_array )"
   ]
  },
  {
   "cell_type": "code",
   "execution_count": 242,
   "metadata": {},
   "outputs": [
    {
     "data": {
      "image/png": "[encoded data removed]",
      "text/plain": [
       "<Figure size 432x288 with 1 Axes>"
      ]
     },
     "metadata": {
      "needs_background": "light"
     },
     "output_type": "display_data"
    }
   ],
   "source": [
    "cluster_graph(X_text, kmean_model)"
   ]
  },
  {
   "cell_type": "code",
   "execution_count": 243,
   "metadata": {},
   "outputs": [
    {
     "name": "stdout",
     "output_type": "stream",
     "text": [
      "Topic 0: dlrs loss year billion profit revs sales quarter january note february share oper rose shrs\n",
      "Topic 1: bank market rate banks billion rates money would interest today week central dollar foreign analysts\n",
      "Topic 2: company dlrs shares stock corp share offer group april common would dividend record stake unit\n",
      "Topic 3: trade would tonnes year last prices japan exports production market export told government economic wheat\n",
      "\n"
     ]
    }
   ],
   "source": [
    "lda_model = LDA(learning_method = 'online', n_components=numClusters, random_state=1).fit(x_text_c_array)\n",
    "c_fn = c.get_feature_names()\n",
    "no_top_words = 15\n",
    "\n",
    "display_topics(lda_model, c_fn, no_top_words)\n",
    "print()"
   ]
  },
  {
   "cell_type": "code",
   "execution_count": 244,
   "metadata": {},
   "outputs": [
    {
     "data": {
      "text/plain": [
       "array([[6.58704961e-02, 8.49398086e-04, 3.04988970e-02, 9.02781209e-01],\n",
       "       [7.74616911e-03, 7.80536767e-03, 7.54562270e-03, 9.76902841e-01],\n",
       "       [2.19069691e-01, 3.51891528e-03, 3.52401948e-03, 7.73887374e-01],\n",
       "       ...,\n",
       "       [2.89254070e-02, 2.81436535e-02, 9.14787409e-01, 2.81435309e-02],\n",
       "       [9.49673066e-01, 1.66984202e-02, 1.68856505e-02, 1.67428634e-02],\n",
       "       [8.47702407e-01, 5.00190680e-02, 5.21118980e-02, 5.01666273e-02]])"
      ]
     },
     "execution_count": 244,
     "metadata": {},
     "output_type": "execute_result"
    }
   ],
   "source": [
    "transformed_x = lda_model.transform(x_text_c_array)\n",
    "transformed_x"
   ]
  },
  {
   "cell_type": "markdown",
   "metadata": {},
   "source": [
    "# Selecting certain parts of speech"
   ]
  },
  {
   "cell_type": "code",
   "execution_count": 250,
   "metadata": {},
   "outputs": [],
   "source": [
    "# nltk.pos_tag(nltk.word_tokenize(reuters.raw(fileids = reuters.fileids()[2])))\n",
    "\n",
    "# chosen_tags = [token for token, pos in nltk.pos_tag(nltk.word_tokenize(reuters.raw(fileids = reuters.fileids()[2]))) if pos in ('JJ', 'JJR', 'JJS','NNP', 'NN', 'NNS', 'RB', 'RBS', 'VB', 'VBD', 'VBN', 'VBP', 'VBZ')]\n",
    "# print(chosen_tags)\n",
    "\n",
    "cleaned_text_list_pos = []\n",
    "# print(reuters.categories())\n",
    "\n",
    "for doc in reuters.fileids():\n",
    "    # print(doc + \" | category: %s\" %(reuters.categories(fileids = doc)))\n",
    "    #print(reuters.words(fileids = doc))\n",
    "    \n",
    "    cleaned_text = clean_text(reuters.raw(fileids = doc), pos_pick = True)\n",
    "    # print(cleaned_text)\n",
    "    cleaned_text_list_pos.append(cleaned_text)\n",
    "    # break  \n",
    "\n",
    "\n"
   ]
  },
  {
   "cell_type": "code",
   "execution_count": null,
   "metadata": {},
   "outputs": [],
   "source": [
    "cleaned_text_list_pos[:5]"
   ]
  },
  {
   "cell_type": "code",
   "execution_count": 254,
   "metadata": {},
   "outputs": [
    {
     "data": {
      "text/plain": [
       "(10788, 1605)"
      ]
     },
     "execution_count": 254,
     "metadata": {},
     "output_type": "execute_result"
    }
   ],
   "source": [
    "c = CountVectorizer(stop_words=stop_word, max_df = 0.7, min_df = 50)\n",
    "X_text_cpos = c.fit_transform(cleaned_text_list_pos)\n",
    "#print(X_text_c)\n",
    "x_text_cpos_array = X_text_cpos.toarray()\n",
    "x_text_cpos_array.shape"
   ]
  },
  {
   "cell_type": "code",
   "execution_count": 255,
   "metadata": {},
   "outputs": [
    {
     "name": "stdout",
     "output_type": "stream",
     "text": [
      "Number of clusters: 6\n"
     ]
    },
    {
     "data": {
      "image/png": "[encoded data removed]",
      "text/plain": [
       "<Figure size 432x288 with 1 Axes>"
      ]
     },
     "metadata": {
      "needs_background": "light"
     },
     "output_type": "display_data"
    }
   ],
   "source": [
    "numClusters = elbow(x_text_cpos_array, max_clust = 10)\n",
    "print(\"Number of clusters: %d\" %numClusters)\n",
    "\n",
    "kmean_model = KMeans( n_clusters = numClusters )\n",
    "kmean_model.fit( x_text_cpos_array )\n",
    "cluster_graph(X_text, kmean_model)"
   ]
  },
  {
   "cell_type": "code",
   "execution_count": 256,
   "metadata": {},
   "outputs": [
    {
     "name": "stdout",
     "output_type": "stream",
     "text": [
      "# Features: 1712\n",
      "(10788, 1712)\n"
     ]
    }
   ],
   "source": [
    "tfidf = TfidfVectorizer(max_df=0.7, min_df = 50, stop_words=stop_word)\n",
    "X_text_pos = tfidf.fit_transform(cleaned_text_list)\n",
    "print(\"# Features:\", str(len(tfidf.get_feature_names())))\n",
    "\n",
    "tfidf_pos_array = X_text_pos.toarray()\n",
    "print(tfidf_pos_array.shape)"
   ]
  },
  {
   "cell_type": "code",
   "execution_count": 257,
   "metadata": {},
   "outputs": [
    {
     "name": "stdout",
     "output_type": "stream",
     "text": [
      "Number of clusters: 4\n"
     ]
    },
    {
     "data": {
      "text/plain": [
       "KMeans(n_clusters=4)"
      ]
     },
     "execution_count": 257,
     "metadata": {},
     "output_type": "execute_result"
    }
   ],
   "source": [
    "numClusters = elbow(tfidf_pos_array, max_clust = 10)\n",
    "print(\"Number of clusters: %d\" %numClusters)\n",
    "\n",
    "kmean_model = KMeans( n_clusters = numClusters )\n",
    "kmean_model.fit( tfidf_pos_array )"
   ]
  },
  {
   "cell_type": "code",
   "execution_count": 258,
   "metadata": {},
   "outputs": [
    {
     "data": {
      "image/png": "[encoded data removed]",
      "text/plain": [
       "<Figure size 432x288 with 1 Axes>"
      ]
     },
     "metadata": {
      "needs_background": "light"
     },
     "output_type": "display_data"
    }
   ],
   "source": [
    "cluster_graph(X_text, kmean_model)"
   ]
  },
  {
   "cell_type": "code",
   "execution_count": 269,
   "metadata": {},
   "outputs": [],
   "source": [
    "lda_model = LDA(learning_method = 'online', n_components=4, random_state=1).fit(x_text_cpos_array)\n",
    "c_fn = c.get_feature_names()"
   ]
  },
  {
   "cell_type": "code",
   "execution_count": 270,
   "metadata": {},
   "outputs": [
    {
     "data": {
      "text/plain": [
       "1605"
      ]
     },
     "execution_count": 270,
     "metadata": {},
     "output_type": "execute_result"
    }
   ],
   "source": [
    "len(c_fn)"
   ]
  },
  {
   "cell_type": "code",
   "execution_count": 271,
   "metadata": {},
   "outputs": [
    {
     "data": {
      "text/plain": [
       "(4, 1605)"
      ]
     },
     "execution_count": 271,
     "metadata": {},
     "output_type": "execute_result"
    }
   ],
   "source": [
    "lda_model.components_.shape"
   ]
  },
  {
   "cell_type": "code",
   "execution_count": 274,
   "metadata": {},
   "outputs": [
    {
     "name": "stdout",
     "output_type": "stream",
     "text": [
      "Topic 0: dlrs loss company year corp share profit shares revs stock group sales note april offer oper quarter dividend common shrs march earnings record sale unit\n",
      "Topic 1: trade also market told price last japan agreement industry prices international government officials world today meeting japanese spokesman united talks president countries foreign companies made\n",
      "Topic 2: bank rate dollar market rates banks growth money year exchange interest foreign dlrs currency central economic last reserves government rise week japan marks dealers economy\n",
      "Topic 3: year tonnes dlrs january february last production prices exports export wheat rose imports sugar trade department rise december march output month grain agriculture corn total\n",
      "\n"
     ]
    }
   ],
   "source": [
    "no_top_words = 25\n",
    "display_topics(lda_model, c_fn, no_top_words)\n",
    "print()"
   ]
  },
  {
   "cell_type": "code",
   "execution_count": 273,
   "metadata": {},
   "outputs": [
    {
     "data": {
      "text/plain": [
       "array([[0.03187881, 0.6501642 , 0.08111129, 0.23684569],\n",
       "       [0.00763478, 0.00845218, 0.00784835, 0.97606469],\n",
       "       [0.00365353, 0.39958124, 0.00377604, 0.59298919],\n",
       "       ...,\n",
       "       [0.91497802, 0.0279999 , 0.02892312, 0.02809895],\n",
       "       [0.94977775, 0.0167135 , 0.01670865, 0.0168001 ],\n",
       "       [0.84826921, 0.0500382 , 0.0503397 , 0.05135289]])"
      ]
     },
     "execution_count": 273,
     "metadata": {},
     "output_type": "execute_result"
    }
   ],
   "source": [
    "transformed_x = lda_model.transform(x_text_cpos_array)\n",
    "transformed_x"
   ]
  },
  {
   "cell_type": "markdown",
   "metadata": {},
   "source": [
    "## Gensim"
   ]
  },
  {
   "cell_type": "code",
   "execution_count": null,
   "metadata": {},
   "outputs": [],
   "source": [
    "cleaned_text_list_gs = []\n",
    "\n",
    "print(reuters.categories())\n",
    "\n",
    "for doc in reuters.fileids():\n",
    "    # print(doc + \" | category: %s\" %(reuters.categories(fileids = doc)))\n",
    "    #print(reuters.words(fileids = doc))\n",
    "    cleaned_text = clean_text(reuters.raw(fileids = doc)).split()\n",
    "    cleaned_text_list_gs.append(cleaned_text)"
   ]
  },
  {
   "cell_type": "code",
   "execution_count": null,
   "metadata": {},
   "outputs": [],
   "source": [
    "dictionary = gensim.corpora.Dictionary(cleaned_text_list_gs)\n",
    "# count = 0\n",
    "# for k, v in dictionary.iteritems():\n",
    "#     print(k, v)\n",
    "#     count += 1\n",
    "#     if count > 10:\n",
    "#         break"
   ]
  },
  {
   "cell_type": "code",
   "execution_count": null,
   "metadata": {},
   "outputs": [],
   "source": [
    "dictionary.filter_extremes(no_below=15, no_above=0.5, keep_n=100000)\n",
    "\n",
    "bow_corpus = [dictionary.doc2bow(doc) for doc in cleaned_text_list_gs]\n",
    "# bow_corpus"
   ]
  },
  {
   "cell_type": "code",
   "execution_count": null,
   "metadata": {},
   "outputs": [],
   "source": [
    "from gensim import corpora, models\n",
    "tfidf = models.TfidfModel(bow_corpus)\n",
    "corpus_tfidf = tfidf[bow_corpus]"
   ]
  },
  {
   "cell_type": "code",
   "execution_count": null,
   "metadata": {},
   "outputs": [],
   "source": [
    "lda_model = gensim.models.LdaMulticore(bow_corpus, num_topics=10, id2word=dictionary, passes=2, workers=2)\n",
    "# For each topic, we will explore the words occuring in that topic and its relative weight.\n",
    "\n",
    "for idx, topic in lda_model.print_topics(-1):\n",
    "    print('Topic: {} \\nWords: {}'.format(idx, topic))"
   ]
  },
  {
   "cell_type": "code",
   "execution_count": null,
   "metadata": {},
   "outputs": [],
   "source": [
    "lda_model_tfidf = gensim.models.LdaMulticore(corpus_tfidf, num_topics=10, id2word=dictionary, passes=2, workers=4)\n",
    "for idx, topic in lda_model_tfidf.print_topics(-1):\n",
    "    print('Topic: {} Word: {}'.format(idx, topic))"
   ]
  }
 ],
 "metadata": {
  "kernelspec": {
   "display_name": "Python 3",
   "language": "python",
   "name": "python3"
  },
  "language_info": {
   "codemirror_mode": {
    "name": "ipython",
    "version": 3
   },
   "file_extension": ".py",
   "mimetype": "text/x-python",
   "name": "python",
   "nbconvert_exporter": "python",
   "pygments_lexer": "ipython3",
   "version": "3.9.0"
  }
 },
 "nbformat": 4,
 "nbformat_minor": 4
}
